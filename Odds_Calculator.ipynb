{
  "nbformat": 4,
  "nbformat_minor": 0,
  "metadata": {
    "colab": {
      "name": "Odds Calculator.ipynb",
      "provenance": [],
      "collapsed_sections": [],
      "authorship_tag": "ABX9TyNv1IanCrEE0aJSdegitZP9",
      "include_colab_link": true
    },
    "kernelspec": {
      "name": "python3",
      "display_name": "Python 3"
    }
  },
  "cells": [
    {
      "cell_type": "markdown",
      "metadata": {
        "id": "view-in-github",
        "colab_type": "text"
      },
      "source": [
        "<a href=\"https://colab.research.google.com/github/sahil3Vedi/Soccer-Prediction/blob/main/Odds_Calculator.ipynb\" target=\"_parent\"><img src=\"https://colab.research.google.com/assets/colab-badge.svg\" alt=\"Open In Colab\"/></a>"
      ]
    },
    {
      "cell_type": "markdown",
      "metadata": {
        "id": "A3lBD1ti7tV6"
      },
      "source": [
        "**Importing Dependencies**"
      ]
    },
    {
      "cell_type": "code",
      "metadata": {
        "id": "9N5T8i7ewJ5B",
        "colab": {
          "base_uri": "https://localhost:8080/"
        },
        "outputId": "9b0c36c0-cded-459d-a940-66d65d436095"
      },
      "source": [
        "from google.colab import drive\n",
        "drive.mount('/content/drive')"
      ],
      "execution_count": 1,
      "outputs": [
        {
          "output_type": "stream",
          "text": [
            "Mounted at /content/drive\n"
          ],
          "name": "stdout"
        }
      ]
    },
    {
      "cell_type": "code",
      "metadata": {
        "id": "eFx4i9wp7ptk"
      },
      "source": [
        "# importing dependencies\n",
        "import os\n",
        "import pandas as pd\n",
        "import numpy as np\n",
        "from random import randint\n",
        "from sklearn.model_selection import train_test_split\n",
        "from sklearn.svm import LinearSVC\n",
        "import tensorflow as tf\n",
        "from tensorflow import keras\n",
        "from tensorflow.keras import layers\n",
        "import seaborn as sn\n",
        "import pandas as pd\n",
        "import matplotlib.pyplot as plt\n",
        "from sklearn.linear_model import LogisticRegression\n",
        "import math"
      ],
      "execution_count": 2,
      "outputs": []
    },
    {
      "cell_type": "markdown",
      "metadata": {
        "id": "KvJ9InC887QR"
      },
      "source": [
        "**Loading Dataframes having 2019 & 2020 Match Results for the League**"
      ]
    },
    {
      "cell_type": "code",
      "metadata": {
        "id": "tg1tRa7D9lR-"
      },
      "source": [
        "DATA_DIR = 'drive/My Drive/Odds'\n",
        "\n",
        "BARCLAYS_PATHS = ['BPL Matches 2019.csv','BPL Matches 2020.csv']\n",
        "LALIGA_PATHS = ['Spain 2019.csv','Spain 2020.csv']\n",
        "SERIEA_PATHS = ['Italy 2019.csv','Italy 2020.csv']\n",
        "LIGUE1_PATHS = ['France 2019.csv','France 2020.csv']\n",
        "BUNDESLIGA_PATHS = ['Germany 2019.csv','Germany 2020.csv']\n",
        "BELGIUM_PATHS = ['Belgium 2019.csv','Belgium 2020.csv']\n",
        "SUPERLIG_PATHS = []\n",
        "SCOTTISHLEAGUE_PATHS = ['Scottland 2019.csv','Scottland 2020.csv']\n",
        "NETHERLANDS_PATHS = ['Netherlands 2019.csv','Netherlands 2020.csv']\n",
        "\n",
        "LEAGUE_PATHS = NETHERLANDS_PATHS\n",
        "MATCHES_2019_FILE = LEAGUE_PATHS[0]\n",
        "MATCHES_2019_PATH = os.path.join(DATA_DIR,MATCHES_2019_FILE)\n",
        "matches_2019 = pd.read_csv(MATCHES_2019_PATH)\n",
        "\n",
        "MATCHES_2020_FILE = LEAGUE_PATHS[1]\n",
        "MATCHES_2020_PATH = os.path.join(DATA_DIR,MATCHES_2020_FILE)\n",
        "matches_2020 = pd.read_csv(MATCHES_2020_PATH)"
      ],
      "execution_count": 3,
      "outputs": []
    },
    {
      "cell_type": "markdown",
      "metadata": {
        "id": "1bqL78XyAjio"
      },
      "source": [
        "**Predicting Outcomes for a Given Match using Poission Distribution**"
      ]
    },
    {
      "cell_type": "code",
      "metadata": {
        "id": "-Jcb9pwIB5fD"
      },
      "source": [
        "def poissonify(u,x):\n",
        "  return (math.exp(-u)*pow(u,x))/math.factorial(x)\n",
        "\n",
        "def generatePoissonTable(home_exp,away_exp,home_team,away_team):\n",
        "  num_goals = [0,1,2,3,4,5]\n",
        "  home_distribution = [poissonify(home_exp,x) for x in num_goals]\n",
        "  away_distribution = [poissonify(away_exp,x) for x in num_goals]\n",
        "  #print(\"\\n\")\n",
        "  #print(home_distribution)\n",
        "  #print(away_distribution)\n",
        "  #print(\"\\n\")\n",
        "  distribution_df = {\n",
        "      'Number of Goals':[str(home_team + \" goals\"),\"0\",\"1\",\"2\",\"3\",\"4\",\"5\"],\n",
        "      str(away_team + \" goals\"): [\"Probability\",home_distribution[0],home_distribution[1],home_distribution[2],home_distribution[3],home_distribution[4],home_distribution[5]],\n",
        "      \"0\": [away_distribution[0],away_distribution[0]*home_distribution[0],away_distribution[0]*home_distribution[1],away_distribution[0]*home_distribution[2],away_distribution[0]*home_distribution[3],away_distribution[0]*home_distribution[4],away_distribution[0]*home_distribution[5]],\n",
        "      \"1\": [away_distribution[1],away_distribution[1]*home_distribution[0],away_distribution[1]*home_distribution[1],away_distribution[1]*home_distribution[2],away_distribution[1]*home_distribution[3],away_distribution[1]*home_distribution[4],away_distribution[1]*home_distribution[5]],\n",
        "      \"2\": [away_distribution[2],away_distribution[2]*home_distribution[0],away_distribution[2]*home_distribution[1],away_distribution[2]*home_distribution[2],away_distribution[2]*home_distribution[3],away_distribution[2]*home_distribution[4],away_distribution[2]*home_distribution[5]],\n",
        "      \"3\": [away_distribution[3],away_distribution[3]*home_distribution[0],away_distribution[3]*home_distribution[1],away_distribution[3]*home_distribution[2],away_distribution[3]*home_distribution[3],away_distribution[3]*home_distribution[4],away_distribution[3]*home_distribution[5]],\n",
        "      \"4\": [away_distribution[4],away_distribution[4]*home_distribution[0],away_distribution[4]*home_distribution[1],away_distribution[4]*home_distribution[2],away_distribution[4]*home_distribution[3],away_distribution[4]*home_distribution[4],away_distribution[4]*home_distribution[5]],\n",
        "      \"5\": [away_distribution[5],away_distribution[5]*home_distribution[0],away_distribution[5]*home_distribution[1],away_distribution[5]*home_distribution[2],away_distribution[5]*home_distribution[3],away_distribution[5]*home_distribution[4],away_distribution[5]*home_distribution[5]]\n",
        "      }\n",
        "  dist_df = pd.DataFrame(data=distribution_df)\n",
        "  #print(dist_df)\n",
        "\n",
        "  home_probability = 0\n",
        "  away_probability = 0\n",
        "  draw_probability = 0\n",
        "\n",
        "  for h in num_goals:\n",
        "    for a in num_goals:\n",
        "      outcome_probability = home_distribution[h]*away_distribution[a]\n",
        "      if (h>a):\n",
        "        home_probability += outcome_probability\n",
        "      elif (h<a):\n",
        "        away_probability += outcome_probability\n",
        "      else:\n",
        "        draw_probability += outcome_probability\n",
        "\n",
        "  print(home_team + \" Winning Probability: \" + str(home_probability))\n",
        "  print(away_team + \" Winning Probability: \" + str(away_probability))\n",
        "  print(\"Draw Probability: \" + str(draw_probability))\n",
        "  print(\"\\n\")\n",
        "  print(home_team + \" Winning Odds: \" + str(1/home_probability))\n",
        "  print(away_team + \" Winning Odds: \" + str(1/away_probability))\n",
        "  print(\"Draw Odds: \" + str(1/draw_probability))\n",
        "  print(\"\\n\")\n",
        "  print(\"HX Odds: \" + str(1/(home_probability+draw_probability)))\n",
        "  print(\"XA Odds: \" + str(1/(away_probability+draw_probability)))\n",
        "  print(\"HA Odds: \" + str(1/(away_probability+home_probability)))\n",
        "\n",
        "\n",
        "  return (dist_df)"
      ],
      "execution_count": 4,
      "outputs": []
    },
    {
      "cell_type": "code",
      "metadata": {
        "id": "uYvvfqUgAtsM"
      },
      "source": [
        "def analyseMatchUp(home_team,away_team):\n",
        "  print(\"Home Team: \" + home_team)\n",
        "  print(\"Away Team: \" + away_team)\n",
        "\n",
        "  league_home_goals_19 = np.sum(matches_2019[\"FTHG\"])\n",
        "  league_away_goals_19 = np.sum(matches_2019[\"FTAG\"])\n",
        "  league_home_goals_20 = np.sum(matches_2020[\"FTHG\"])\n",
        "  league_away_goals_20 = np.sum(matches_2020[\"FTAG\"])\n",
        "  league_games_19 = len(matches_2019)\n",
        "  league_games_20 = len(matches_2020)\n",
        "\n",
        "  print(\"\\nHome Goals Scored by All Teams in 2019: \" + str(league_home_goals_19))\n",
        "  print(\"Away Goals Scored by All Teams in 2019: \" + str(league_away_goals_19))\n",
        "  print(\"Total Games in 2019: \" + str(league_games_19))\n",
        "  print(\"\\nHome Goals Scored by All Teams in 2020: \" + str(league_home_goals_20))\n",
        "  print(\"Away Goals Scored by All Teams in 2020: \" + str(league_away_goals_20))\n",
        "  print(\"Total Games in 2020: \" + str(league_games_20))\n",
        "\n",
        "  avg_home_goals = (league_home_goals_19 + league_home_goals_20)/(league_games_19 + league_games_20)\n",
        "  avg_away_goals = (league_away_goals_19 + league_away_goals_20)/(league_games_19 + league_games_20)\n",
        "  print(\"\\nAverage Home Goals per Match: \" + str(avg_home_goals))\n",
        "  print(\"Average Away Goals per Match: \" + str(avg_away_goals))\n",
        "\n",
        "  home_found = 0\n",
        "  home_team_home_performance = []\n",
        "  for match_index in range(len(matches_2019)):\n",
        "    if (matches_2019['HomeTeam'][match_index]==home_team):\n",
        "      home_found = 1\n",
        "      home_team_home_performance.append([matches_2019['FTHG'][match_index],matches_2019['FTAG'][match_index]])\n",
        "  for match_index in range(len(matches_2020)):\n",
        "    if (matches_2020['HomeTeam'][match_index]==home_team):\n",
        "      home_found = 1\n",
        "      home_team_home_performance.append([matches_2020['FTHG'][match_index],matches_2020['FTAG'][match_index]])\n",
        "  if (home_found==0):\n",
        "    print(\"\\nPlease Check Name of Home Team\")\n",
        "    exit\n",
        "    \n",
        "  away_found = 0\n",
        "  away_team_away_performance = []\n",
        "  for match_index in range(len(matches_2019)):\n",
        "    if (matches_2019['AwayTeam'][match_index]==away_team):\n",
        "      away_found = 1\n",
        "      away_team_away_performance.append([matches_2019['FTHG'][match_index],matches_2019['FTAG'][match_index]])\n",
        "  for match_index in range(len(matches_2020)):\n",
        "    if (matches_2020['AwayTeam'][match_index]==away_team):\n",
        "      away_found = 1\n",
        "      away_team_away_performance.append([matches_2020['FTHG'][match_index],matches_2020['FTAG'][match_index]])\n",
        "  if (away_found==0):\n",
        "    print(\"Please Check Name of Away Team\")\n",
        "    exit\n",
        "\n",
        "  average_home_team_scored = np.average(np.asarray([a[0] for a in home_team_home_performance]))\n",
        "  average_home_team_conceded = np.average(np.asarray([a[1] for a in home_team_home_performance]))\n",
        "  average_away_team_scored = np.average(np.asarray([a[1] for a in away_team_away_performance]))\n",
        "  average_away_team_conceded = np.average(np.asarray([a[0] for a in away_team_away_performance]))\n",
        "\n",
        "  print(\"\\nAverage Home Goals Scored by \" + home_team + \": \" + str(average_home_team_scored))\n",
        "  print(\"Average Home Goals Conceded by \" + home_team + \": \" + str(average_home_team_conceded))\n",
        "  print(\"Average Away Goals Scored by \" + away_team + \": \" + str(average_away_team_scored))\n",
        "  print(\"Average Away Goals Conceded by \" + away_team + \": \" + str(average_away_team_conceded))\n",
        "\n",
        "  home_team_attack_strength = average_home_team_scored/avg_home_goals\n",
        "  away_team_attack_strength = average_away_team_scored/avg_away_goals\n",
        "  home_team_defense_strength = average_home_team_conceded/avg_away_goals\n",
        "  away_team_defense_strength = average_away_team_conceded/avg_home_goals\n",
        "\n",
        "  print(\"\\n\" + home_team + \" Attack Strength: \" + str(home_team_attack_strength))\n",
        "  print(away_team + \" Attack Strength: \" + str(away_team_attack_strength))\n",
        "  print(home_team + \" Defense Strength: \" + str(home_team_defense_strength))\n",
        "  print(away_team + \" Defense Strength: \" + str(away_team_defense_strength))\n",
        "\n",
        "  home_team_goal_expectancy = home_team_attack_strength * away_team_defense_strength * avg_home_goals\n",
        "  away_team_goal_expectancy = away_team_attack_strength * home_team_defense_strength * avg_away_goals\n",
        "\n",
        "  print(\"\\n\" + home_team + \" expected goals: \" + str(home_team_goal_expectancy))\n",
        "  print(away_team + \" expected goals: \" + str(away_team_goal_expectancy))\n",
        "\n",
        "  return generatePoissonTable(home_team_goal_expectancy,away_team_goal_expectancy,home_team,away_team)"
      ],
      "execution_count": 5,
      "outputs": []
    },
    {
      "cell_type": "code",
      "metadata": {
        "colab": {
          "base_uri": "https://localhost:8080/"
        },
        "id": "a3F3bDCgCPYu",
        "outputId": "3ad3a0af-e9ab-40c7-e448-2f81b7d678b5"
      },
      "source": [
        "spread1 = analyseMatchUp('VVV Venlo','Heerenveen')"
      ],
      "execution_count": 6,
      "outputs": [
        {
          "output_type": "stream",
          "text": [
            "Home Team: VVV Venlo\n",
            "Away Team: Heerenveen\n",
            "\n",
            "Home Goals Scored by All Teams in 2019: 436\n",
            "Away Goals Scored by All Teams in 2019: 279\n",
            "Total Games in 2019: 232\n",
            "\n",
            "Home Goals Scored by All Teams in 2020: 224\n",
            "Away Goals Scored by All Teams in 2020: 212\n",
            "Total Games in 2020: 135\n",
            "\n",
            "Average Home Goals per Match: 1.7983651226158037\n",
            "Average Away Goals per Match: 1.337874659400545\n",
            "\n",
            "Average Home Goals Scored by VVV Venlo: 1.1428571428571428\n",
            "Average Home Goals Conceded by VVV Venlo: 2.238095238095238\n",
            "Average Away Goals Scored by Heerenveen: 1.8\n",
            "Average Away Goals Conceded by Heerenveen: 1.85\n",
            "\n",
            "VVV Venlo Attack Strength: 0.6354978354978355\n",
            "Heerenveen Attack Strength: 1.345417515274949\n",
            "VVV Venlo Defense Strength: 1.6728736301037725\n",
            "Heerenveen Defense Strength: 1.0287121212121213\n",
            "\n",
            "VVV Venlo expected goals: 1.1756709956709956\n",
            "Heerenveen expected goals: 3.0111725341867905\n",
            "VVV Venlo Winning Probability: 0.11568345802460703\n",
            "Heerenveen Winning Probability: 0.6579838729206129\n",
            "Draw Probability: 0.14004525943464757\n",
            "\n",
            "\n",
            "VVV Venlo Winning Odds: 8.644278249248826\n",
            "Heerenveen Winning Odds: 1.5197940879025953\n",
            "Draw Odds: 7.1405487342943745\n",
            "\n",
            "\n",
            "HX Odds: 3.910393834276084\n",
            "XA Odds: 1.253087085992279\n",
            "HA Odds: 1.292545206449729\n"
          ],
          "name": "stdout"
        }
      ]
    },
    {
      "cell_type": "code",
      "metadata": {
        "colab": {
          "base_uri": "https://localhost:8080/",
          "height": 266
        },
        "id": "biTmmsf9CQy-",
        "outputId": "1f90edcc-3d16-42b8-f523-0ed84a905283"
      },
      "source": [
        "spread1"
      ],
      "execution_count": 7,
      "outputs": [
        {
          "output_type": "execute_result",
          "data": {
            "text/html": [
              "<div>\n",
              "<style scoped>\n",
              "    .dataframe tbody tr th:only-of-type {\n",
              "        vertical-align: middle;\n",
              "    }\n",
              "\n",
              "    .dataframe tbody tr th {\n",
              "        vertical-align: top;\n",
              "    }\n",
              "\n",
              "    .dataframe thead th {\n",
              "        text-align: right;\n",
              "    }\n",
              "</style>\n",
              "<table border=\"1\" class=\"dataframe\">\n",
              "  <thead>\n",
              "    <tr style=\"text-align: right;\">\n",
              "      <th></th>\n",
              "      <th>Number of Goals</th>\n",
              "      <th>Heerenveen goals</th>\n",
              "      <th>0</th>\n",
              "      <th>1</th>\n",
              "      <th>2</th>\n",
              "      <th>3</th>\n",
              "      <th>4</th>\n",
              "      <th>5</th>\n",
              "    </tr>\n",
              "  </thead>\n",
              "  <tbody>\n",
              "    <tr>\n",
              "      <th>0</th>\n",
              "      <td>VVV Venlo goals</td>\n",
              "      <td>Probability</td>\n",
              "      <td>0.049234</td>\n",
              "      <td>0.148252</td>\n",
              "      <td>0.223206</td>\n",
              "      <td>0.224037</td>\n",
              "      <td>0.168654</td>\n",
              "      <td>0.101569</td>\n",
              "    </tr>\n",
              "    <tr>\n",
              "      <th>1</th>\n",
              "      <td>0</td>\n",
              "      <td>0.308612</td>\n",
              "      <td>0.015194</td>\n",
              "      <td>0.045752</td>\n",
              "      <td>0.068884</td>\n",
              "      <td>0.069141</td>\n",
              "      <td>0.052049</td>\n",
              "      <td>0.031345</td>\n",
              "    </tr>\n",
              "    <tr>\n",
              "      <th>2</th>\n",
              "      <td>1</td>\n",
              "      <td>0.362826</td>\n",
              "      <td>0.017863</td>\n",
              "      <td>0.053790</td>\n",
              "      <td>0.080985</td>\n",
              "      <td>0.081287</td>\n",
              "      <td>0.061192</td>\n",
              "      <td>0.036852</td>\n",
              "    </tr>\n",
              "    <tr>\n",
              "      <th>3</th>\n",
              "      <td>2</td>\n",
              "      <td>0.213282</td>\n",
              "      <td>0.010501</td>\n",
              "      <td>0.031619</td>\n",
              "      <td>0.047606</td>\n",
              "      <td>0.047783</td>\n",
              "      <td>0.035971</td>\n",
              "      <td>0.021663</td>\n",
              "    </tr>\n",
              "    <tr>\n",
              "      <th>4</th>\n",
              "      <td>3</td>\n",
              "      <td>0.0835832</td>\n",
              "      <td>0.004115</td>\n",
              "      <td>0.012391</td>\n",
              "      <td>0.018656</td>\n",
              "      <td>0.018726</td>\n",
              "      <td>0.014097</td>\n",
              "      <td>0.008489</td>\n",
              "    </tr>\n",
              "    <tr>\n",
              "      <th>5</th>\n",
              "      <td>4</td>\n",
              "      <td>0.0245666</td>\n",
              "      <td>0.001210</td>\n",
              "      <td>0.003642</td>\n",
              "      <td>0.005483</td>\n",
              "      <td>0.005504</td>\n",
              "      <td>0.004143</td>\n",
              "      <td>0.002495</td>\n",
              "    </tr>\n",
              "    <tr>\n",
              "      <th>6</th>\n",
              "      <td>5</td>\n",
              "      <td>0.00577644</td>\n",
              "      <td>0.000284</td>\n",
              "      <td>0.000856</td>\n",
              "      <td>0.001289</td>\n",
              "      <td>0.001294</td>\n",
              "      <td>0.000974</td>\n",
              "      <td>0.000587</td>\n",
              "    </tr>\n",
              "  </tbody>\n",
              "</table>\n",
              "</div>"
            ],
            "text/plain": [
              "   Number of Goals Heerenveen goals         0  ...         3         4         5\n",
              "0  VVV Venlo goals      Probability  0.049234  ...  0.224037  0.168654  0.101569\n",
              "1                0         0.308612  0.015194  ...  0.069141  0.052049  0.031345\n",
              "2                1         0.362826  0.017863  ...  0.081287  0.061192  0.036852\n",
              "3                2         0.213282  0.010501  ...  0.047783  0.035971  0.021663\n",
              "4                3        0.0835832  0.004115  ...  0.018726  0.014097  0.008489\n",
              "5                4        0.0245666  0.001210  ...  0.005504  0.004143  0.002495\n",
              "6                5       0.00577644  0.000284  ...  0.001294  0.000974  0.000587\n",
              "\n",
              "[7 rows x 8 columns]"
            ]
          },
          "metadata": {
            "tags": []
          },
          "execution_count": 7
        }
      ]
    }
  ]
}